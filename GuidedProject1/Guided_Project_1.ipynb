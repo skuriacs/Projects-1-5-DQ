{
 "metadata": {
  "language_info": {
   "codemirror_mode": {
    "name": "ipython",
    "version": 3
   },
   "file_extension": ".py",
   "mimetype": "text/x-python",
   "name": "python",
   "nbconvert_exporter": "python",
   "pygments_lexer": "ipython3",
   "version": "3.9.2"
  },
  "orig_nbformat": 4,
  "kernelspec": {
   "name": "python3",
   "display_name": "Python 3.9.2 64-bit"
  },
  "interpreter": {
   "hash": "ac59ebe37160ed0dfa835113d9b8498d9f09ceb179beaac4002f036b9467c963"
  }
 },
 "nbformat": 4,
 "nbformat_minor": 2,
 "cells": [
  {
   "source": [
    "# Analyzing Sucessful Apps on App Stores\n",
    "This project will look through a data set of popular (and unpopular) apps on the apple store and google play store and see what apps have the highest chance of \n",
    "generating profits"
   ],
   "cell_type": "markdown",
   "metadata": {}
  },
  {
   "cell_type": "code",
   "execution_count": null,
   "metadata": {},
   "outputs": [],
   "source": [
    "from csv import reader\n",
    "apple_data = list(reader(open('Datasets\\AppleStore.csv', encoding= 'utf8')))\n",
    "google_data = list(reader(open('Datasets\\googleplaystore.csv', encoding = 'utf8')))"
   ]
  },
  {
   "cell_type": "code",
   "execution_count": null,
   "metadata": {},
   "outputs": [],
   "source": [
    "def explore_data(dataset, start, end, rows_and_columns=False):\n",
    "    dataset_slice = dataset[start:end]    \n",
    "    for row in dataset_slice:\n",
    "        print(row)\n",
    "        print('\\n') # adds a new (empty) line after each row\n",
    "\n",
    "    if rows_and_columns:\n",
    "        print('Number of rows:', len(dataset))\n",
    "        print('Number of columns:', len(dataset[0]))"
   ]
  },
  {
   "source": [
    "# Issues With the Google Playstore Dataset\n",
    "---\n",
    "The google play store dataset has a faulty row at the 10474th row, there's a missing parameter causing one of the variables to become NaN. This should just be thrown out since this can cause some issues with parsing the data. The other issue with the dataset is the amount of duplicates there are in the csv, around 1181 duplicates. We will keep the apps with the most amount of ratings and throw away the rest."
   ],
   "cell_type": "markdown",
   "metadata": {}
  },
  {
   "cell_type": "code",
   "execution_count": null,
   "metadata": {},
   "outputs": [],
   "source": [
    " if google_data[10473][0] == 'Life Made WI-Fi Touchscreen Photo Frame':\n",
    "     del google_data[10473]\n",
    "\n"
   ]
  },
  {
   "cell_type": "code",
   "execution_count": null,
   "metadata": {},
   "outputs": [],
   "source": [
    "reviews_max = {}\n",
    "\n",
    "for app in google_data[1:]:\n",
    "    name = app[0]\n",
    "    n_reviews = float(app[3])\n",
    "    if name in reviews_max and n_reviews >= reviews_max[name]:\n",
    "        reviews_max[name] = n_reviews\n",
    "    elif name not in reviews_max:\n",
    "        reviews_max[name] = n_reviews"
   ]
  },
  {
   "source": [
    "The code below creates a new list that has the data entries with the most amount of user reviews for the duplicate apps, creating 9659 entries"
   ],
   "cell_type": "markdown",
   "metadata": {}
  },
  {
   "cell_type": "code",
   "execution_count": null,
   "metadata": {},
   "outputs": [],
   "source": [
    "android_clean = []\n",
    "already_added = []\n",
    "\n",
    "for app in google_data[1:]:\n",
    "    name = app[0]\n",
    "    n_reviews= float(app[3])\n",
    "    if reviews_max[name] == n_reviews and name not in already_added:\n",
    "        android_clean.append(app)\n",
    "        already_added.append(name)"
   ]
  },
  {
   "cell_type": "code",
   "execution_count": null,
   "metadata": {},
   "outputs": [],
   "source": [
    "def english_text(string):\n",
    "    faulty_chars = 0\n",
    "    for char in string:\n",
    "        if ord(char) > 127:\n",
    "            faulty_chars += 1\n",
    "            if faulty_chars > 3:\n",
    "                return False\n",
    "    return True\n"
   ]
  },
  {
   "cell_type": "code",
   "execution_count": null,
   "metadata": {},
   "outputs": [],
   "source": [
    "eng_android_clean = []\n",
    "eng_apple_clean = []\n",
    "\n",
    "for app in android_clean:\n",
    "    if english_text(app[0]):\n",
    "        eng_android_clean.append(app)\n",
    "\n",
    "for app in apple_data[1:]:\n",
    "    if english_text(app[2]):\n",
    "        eng_apple_clean.append(app)"
   ]
  },
  {
   "cell_type": "code",
   "execution_count": null,
   "metadata": {},
   "outputs": [],
   "source": [
    "final_android_set = []\n",
    "final_apple_set = []\n",
    "\n",
    "for app in eng_android_clean:\n",
    "    if app[7] == '0':\n",
    "        final_android_set.append(app)\n",
    "for app in eng_apple_clean:\n",
    "    if app[5] == '0':\n",
    "        final_apple_set.append(app)"
   ]
  },
  {
   "cell_type": "code",
   "execution_count": null,
   "metadata": {},
   "outputs": [],
   "source": [
    "common_android_genres = {}\n",
    "common_apple_genres = {}\n",
    "\n",
    "for app in final_android_set:\n",
    "    if app[1] in common_android_genres:\n",
    "        common_android_genres[app[1]] += 1\n",
    "    else:\n",
    "        common_android_genres[app[1]] = 1\n",
    "for app in final_apple_set:\n",
    "    if app[12] in common_apple_genres:\n",
    "        common_apple_genres[app[12]] += 1\n",
    "    else:\n",
    "        common_apple_genres[app[12]] = 1\n",
    "\n",
    "print (common_android_genres, common_apple_genres)"
   ]
  },
  {
   "cell_type": "code",
   "execution_count": null,
   "metadata": {},
   "outputs": [],
   "source": [
    "def freq_table(dataset,index):\n",
    "    frequency_table = {}\n",
    "    print(len(dataset))\n",
    "    for app in dataset:\n",
    "        if app[index] in frequency_table:\n",
    "            frequency_table[app[index]] += 1\n",
    "        else:\n",
    "            frequency_table[app[index]] = 1\n",
    "    for frequency in frequency_table:\n",
    "        frequency_table[frequency] = (frequency_table[frequency]/len(dataset)) * 100\n",
    "    return frequency_table\n",
    "\n",
    "def display_table(dataset, index):\n",
    "    table = freq_table(dataset, index)\n",
    "    table_display = []\n",
    "    for key in table:\n",
    "        key_val_as_tuple = (table[key], key)\n",
    "        table_display.append(key_val_as_tuple)\n",
    "\n",
    "    table_sorted = sorted(table_display, reverse = True)\n",
    "    for entry in table_sorted:\n",
    "        print(entry[1], ':', entry[0])\n",
    "    print('\\n')\n",
    "\n",
    "display_table(final_android_set,1) #Category\n",
    "display_table(final_android_set,9) #Genres\n",
    "display_table(final_apple_set, 12) #prime genre"
   ]
  },
  {
   "source": [
    "# Analyzing the most popular genres on each app\n",
    "We can see the most demanded apps on apple app store that are both in english and free are:\n",
    "\n",
    "-Games(58%)\n",
    "\n",
    "-Entertainment(8%)\n",
    "\n",
    "-Photo and Video(5%)\n",
    "\n",
    "---\n",
    "The apple app store has more game apps by percentage than any other genre by a large margin. Now, this doesn't imply that there are a ton of users in the gaming genre for apple app stores, as game apps are probably easier to make than the other types of apps, but there certainly is a market for them\n",
    "\n",
    "The google playstore:\n",
    "\n",
    "-Family(19%)\n",
    "\n",
    "-Game(10%)\n",
    "\n",
    "-Tools(8.5%)\n",
    "\n",
    "It seems that the google playstore is more balanced between having fun and productivity, meaning that a developer or company could develop an app for either side and still come out sucessful"
   ],
   "cell_type": "markdown",
   "metadata": {}
  },
  {
   "cell_type": "code",
   "execution_count": 58,
   "metadata": {},
   "outputs": [
    {
     "output_type": "stream",
     "name": "stdout",
     "text": [
      "3222\nAverage number of ratings for each genre\nProductivity: 21028.410714285714\nWeather: 52279.892857142855\nShopping: 26919.690476190477\nReference: 74942.11111111111\nFinance: 31467.944444444445\nMusic: 57326.530303030304\nUtilities: 18684.456790123455\nTravel: 28243.8\nSocial Networking: 71548.34905660378\nSports: 23008.898550724636\nHealth & Fitness: 23298.015384615384\nGames: 22788.6696905016\nFood & Drink: 33333.92307692308\nNews: 21248.023255813954\nBook: 39758.5\nPhoto & Video: 28441.54375\nEntertainment: 14029.830708661417\nBusiness: 7491.117647058823\nLifestyle: 16485.764705882353\nEducation: 7003.983050847458\nNavigation: 86090.33333333333\nMedical: 612.0\nCatalogs: 4004.0\n"
     ]
    }
   ],
   "source": [
    "freq_prime_genre = freq_table(final_apple_set,12)\n",
    "print(\"Average number of ratings for each genre\")\n",
    "for genre in freq_prime_genre:\n",
    "    total = 0\n",
    "    len_genre = 0\n",
    "    for app in final_apple_set:\n",
    "        genre_app = app[12]\n",
    "        if genre_app == genre:\n",
    "            len_genre += 1\n",
    "            total += float(app[6])\n",
    "    print(genre + \": \" + str( total/len_genre ))\n"
   ]
  },
  {
   "source": [
    "\n",
    "# Average number of ratings for each genre for the apple store\n",
    "-Productivity: 21028.410714285714\n",
    "\n",
    "-Weather: 52279.892857142855\n",
    "\n",
    "-Shopping: 26919.690476190477\n",
    "\n",
    "-Reference: 74942.11111111111\n",
    "\n",
    "-Finance: 31467.944444444445\n",
    "\n",
    "-Music: 57326.530303030304\n",
    "\n",
    "-Utilities: 18684.456790123455\n",
    "\n",
    "-Travel: 28243.8\n",
    "\n",
    "-Social Networking: 71548.34905660378\n",
    "\n",
    "-Sports: 23008.898550724636\n",
    "\n",
    "-Health & Fitness: 23298.015384615384\n",
    "\n",
    "-Games: 22788.6696905016\n",
    "\n",
    "-Food & Drink: 33333.92307692308\n",
    "\n",
    "-News: 21248.023255813954\n",
    "\n",
    "-Book: 39758.5\n",
    "\n",
    "-Photo & Video: 28441.54375\n",
    "\n",
    "-Entertainment: 14029.830708661417\n",
    "\n",
    "-Business: 7491.117647058823\n",
    "\n",
    "-Lifestyle: 16485.764705882353\n",
    "\n",
    "-Education: 7003.983050847458\n",
    "\n",
    "-Navigation: 86090.33333333333\n",
    "\n",
    "-Medical: 612.0\n",
    "\n",
    "-Catalogs: 4004.0\n",
    "\n",
    "From these results, it seems like creating a social networking app or possibly a reference app is your best bet. They have the highest average user ratings and they seem to be easier to develop and break into than other types of app categories"
   ],
   "cell_type": "markdown",
   "metadata": {}
  },
  {
   "cell_type": "code",
   "execution_count": 63,
   "metadata": {},
   "outputs": [
    {
     "output_type": "stream",
     "name": "stdout",
     "text": [
      "8864\nAverage number of installs for each category\n- ART_AND_DESIGN: 1986335.0877192982\n\n- AUTO_AND_VEHICLES: 647317.8170731707\n\n- BEAUTY: 513151.88679245283\n\n- BOOKS_AND_REFERENCE: 8767811.894736841\n\n- BUSINESS: 1712290.1474201474\n\n- COMICS: 817657.2727272727\n\n- COMMUNICATION: 38456119.167247385\n\n- DATING: 854028.8303030303\n\n- EDUCATION: 1833495.145631068\n\n- ENTERTAINMENT: 11640705.88235294\n\n- EVENTS: 253542.22222222222\n\n- FINANCE: 1387692.475609756\n\n- FOOD_AND_DRINK: 1924897.7363636363\n\n- HEALTH_AND_FITNESS: 4188821.9853479853\n\n- HOUSE_AND_HOME: 1331540.5616438356\n\n- LIBRARIES_AND_DEMO: 638503.734939759\n\n- LIFESTYLE: 1437816.2687861272\n\n- GAME: 15588015.603248259\n\n- FAMILY: 3695641.8198090694\n\n- MEDICAL: 120550.61980830671\n\n- SOCIAL: 23253652.127118643\n\n- SHOPPING: 7036877.311557789\n\n- PHOTOGRAPHY: 17840110.40229885\n\n- SPORTS: 3638640.1428571427\n\n- TRAVEL_AND_LOCAL: 13984077.710144928\n\n- TOOLS: 10801391.298666667\n\n- PERSONALIZATION: 5201482.6122448975\n\n- PRODUCTIVITY: 16787331.344927534\n\n- PARENTING: 542603.6206896552\n\n- WEATHER: 5074486.197183099\n\n- VIDEO_PLAYERS: 24727872.452830188\n\n- NEWS_AND_MAGAZINES: 9549178.467741935\n\n- MAPS_AND_NAVIGATION: 4056941.7741935486\n\n"
     ]
    }
   ],
   "source": [
    "freq_categories = freq_table(final_android_set,1)\n",
    "print(\"Average number of installs for each category\")\n",
    "for category in freq_categories:\n",
    "    total = 0\n",
    "    len_category = 0\n",
    "    for app in final_android_set:\n",
    "        category_app = app[1]\n",
    "        if category_app == category:\n",
    "            numInstalls = app[5]\n",
    "            numInstalls = numInstalls.replace('+','')\n",
    "            numInstalls = numInstalls.replace(',','')\n",
    "            total += float(numInstalls)\n",
    "            len_category += 1\n",
    "    print(\"- \" + category + \": \" + str(total/len_category) + '\\n')"
   ]
  },
  {
   "source": [],
   "cell_type": "markdown",
   "metadata": {}
  },
  {
   "source": [
    "# Average number of installs for each category\n",
    "\n",
    "- ART_AND_DESIGN: 1986335.0877192982\n",
    "\n",
    "- AUTO_AND_VEHICLES: 647317.8170731707\n",
    "\n",
    "- BEAUTY: 513151.88679245283\n",
    "\n",
    "- BOOKS_AND_REFERENCE: 8767811.894736841\n",
    "\n",
    "- BUSINESS: 1712290.1474201474\n",
    "\n",
    "- COMICS: 817657.2727272727\n",
    "\n",
    "- COMMUNICATION: 38456119.167247385\n",
    "\n",
    "- DATING: 854028.8303030303\n",
    "\n",
    "- EDUCATION: 1833495.145631068\n",
    "\n",
    "- ENTERTAINMENT: 11640705.88235294\n",
    "\n",
    "- EVENTS: 253542.22222222222\n",
    "\n",
    "- FINANCE: 1387692.475609756\n",
    "\n",
    "- FOOD_AND_DRINK: 1924897.7363636363\n",
    "\n",
    "- HEALTH_AND_FITNESS: 4188821.9853479853\n",
    "\n",
    "- HOUSE_AND_HOME: 1331540.5616438356\n",
    "\n",
    "- LIBRARIES_AND_DEMO: 638503.734939759\n",
    "\n",
    "- LIFESTYLE: 1437816.2687861272\n",
    "\n",
    "- GAME: 15588015.603248259\n",
    "\n",
    "- FAMILY: 3695641.8198090694\n",
    "\n",
    "- MEDICAL: 120550.61980830671\n",
    "\n",
    "- SOCIAL: 23253652.127118643\n",
    "\n",
    "- SHOPPING: 7036877.311557789\n",
    "\n",
    "- PHOTOGRAPHY: 17840110.40229885\n",
    "\n",
    "- SPORTS: 3638640.1428571427\n",
    "\n",
    "- TRAVEL_AND_LOCAL: 13984077.710144928\n",
    "\n",
    "- TOOLS: 10801391.298666667\n",
    "\n",
    "- PERSONALIZATION: 5201482.6122448975\n",
    "\n",
    "- PRODUCTIVITY: 16787331.344927534\n",
    "\n",
    "- PARENTING: 542603.6206896552\n",
    "\n",
    "- WEATHER: 5074486.197183099\n",
    "\n",
    "- VIDEO_PLAYERS: 24727872.452830188\n",
    "\n",
    "- NEWS_AND_MAGAZINES: 9549178.467741935\n",
    "\n",
    "- MAPS_AND_NAVIGATION: 4056941.7741935486\n",
    "\n",
    "Seems like making a new hit game or new video player seems like a good bet for the google play store, or possibly even making referece/book type on the app store may work well if the app was based around a popular book (like the Bible or another popular religious book)"
   ],
   "cell_type": "markdown",
   "metadata": {}
  }
 ]
}