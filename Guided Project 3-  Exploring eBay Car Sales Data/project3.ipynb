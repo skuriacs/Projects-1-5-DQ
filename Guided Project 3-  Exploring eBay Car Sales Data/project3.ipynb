{
 "metadata": {
  "language_info": {
   "codemirror_mode": {
    "name": "ipython",
    "version": 3
   },
   "file_extension": ".py",
   "mimetype": "text/x-python",
   "name": "python",
   "nbconvert_exporter": "python",
   "pygments_lexer": "ipython3",
   "version": "3.9.2"
  },
  "orig_nbformat": 4,
  "kernelspec": {
   "name": "python3",
   "display_name": "Python 3.9.2 64-bit"
  },
  "interpreter": {
   "hash": "ac59ebe37160ed0dfa835113d9b8498d9f09ceb179beaac4002f036b9467c963"
  }
 },
 "nbformat": 4,
 "nbformat_minor": 2,
 "cells": [
  {
   "cell_type": "code",
   "execution_count": 35,
   "metadata": {},
   "outputs": [],
   "source": [
    "import pandas as pd\n",
    "import numpy as np\n",
    "\n",
    "autos = pd.read_csv('autos.csv', encoding= 'Latin-1')"
   ]
  },
  {
   "cell_type": "code",
   "execution_count": 36,
   "metadata": {},
   "outputs": [
    {
     "output_type": "execute_result",
     "data": {
      "text/plain": [
       "               dateCrawled                                               name  \\\n",
       "0      2016-03-26 17:47:46                   Peugeot_807_160_NAVTECH_ON_BOARD   \n",
       "1      2016-04-04 13:38:56         BMW_740i_4_4_Liter_HAMANN_UMBAU_Mega_Optik   \n",
       "2      2016-03-26 18:57:24                         Volkswagen_Golf_1.6_United   \n",
       "3      2016-03-12 16:58:10  Smart_smart_fortwo_coupe_softouch/F1/Klima/Pan...   \n",
       "4      2016-04-01 14:38:50  Ford_Focus_1_6_Benzin_TÜV_neu_ist_sehr_gepfleg...   \n",
       "...                    ...                                                ...   \n",
       "49995  2016-03-27 14:38:19   Audi_Q5_3.0_TDI_qu._S_tr.__Navi__Panorama__Xenon   \n",
       "49996  2016-03-28 10:50:25  Opel_Astra_F_Cabrio_Bertone_Edition___TÜV_neu+...   \n",
       "49997  2016-04-02 14:44:48                     Fiat_500_C_1.2_Dualogic_Lounge   \n",
       "49998  2016-03-08 19:25:42                 Audi_A3_2.0_TDI_Sportback_Ambition   \n",
       "49999  2016-03-14 00:42:12                                Opel_Vectra_1.6_16V   \n",
       "\n",
       "       seller offerType    price   abtest vehicleType  yearOfRegistration  \\\n",
       "0      privat   Angebot   $5,000  control         bus                2004   \n",
       "1      privat   Angebot   $8,500  control   limousine                1997   \n",
       "2      privat   Angebot   $8,990     test   limousine                2009   \n",
       "3      privat   Angebot   $4,350  control  kleinwagen                2007   \n",
       "4      privat   Angebot   $1,350     test       kombi                2003   \n",
       "...       ...       ...      ...      ...         ...                 ...   \n",
       "49995  privat   Angebot  $24,900  control   limousine                2011   \n",
       "49996  privat   Angebot   $1,980  control      cabrio                1996   \n",
       "49997  privat   Angebot  $13,200     test      cabrio                2014   \n",
       "49998  privat   Angebot  $22,900  control       kombi                2013   \n",
       "49999  privat   Angebot   $1,250  control   limousine                1996   \n",
       "\n",
       "         gearbox  powerPS   model   odometer  monthOfRegistration fuelType  \\\n",
       "0        manuell      158  andere  150,000km                    3      lpg   \n",
       "1      automatik      286     7er  150,000km                    6   benzin   \n",
       "2        manuell      102    golf   70,000km                    7   benzin   \n",
       "3      automatik       71  fortwo   70,000km                    6   benzin   \n",
       "4        manuell        0   focus  150,000km                    7   benzin   \n",
       "...          ...      ...     ...        ...                  ...      ...   \n",
       "49995  automatik      239      q5  100,000km                    1   diesel   \n",
       "49996    manuell       75   astra  150,000km                    5   benzin   \n",
       "49997  automatik       69     500    5,000km                   11   benzin   \n",
       "49998    manuell      150      a3   40,000km                   11   diesel   \n",
       "49999    manuell      101  vectra  150,000km                    1   benzin   \n",
       "\n",
       "            brand notRepairedDamage          dateCreated  nrOfPictures  \\\n",
       "0         peugeot              nein  2016-03-26 00:00:00             0   \n",
       "1             bmw              nein  2016-04-04 00:00:00             0   \n",
       "2      volkswagen              nein  2016-03-26 00:00:00             0   \n",
       "3           smart              nein  2016-03-12 00:00:00             0   \n",
       "4            ford              nein  2016-04-01 00:00:00             0   \n",
       "...           ...               ...                  ...           ...   \n",
       "49995        audi              nein  2016-03-27 00:00:00             0   \n",
       "49996        opel              nein  2016-03-28 00:00:00             0   \n",
       "49997        fiat              nein  2016-04-02 00:00:00             0   \n",
       "49998        audi              nein  2016-03-08 00:00:00             0   \n",
       "49999        opel              nein  2016-03-13 00:00:00             0   \n",
       "\n",
       "       postalCode             lastSeen  \n",
       "0           79588  2016-04-06 06:45:54  \n",
       "1           71034  2016-04-06 14:45:08  \n",
       "2           35394  2016-04-06 20:15:37  \n",
       "3           33729  2016-03-15 03:16:28  \n",
       "4           39218  2016-04-01 14:38:50  \n",
       "...           ...                  ...  \n",
       "49995       82131  2016-04-01 13:47:40  \n",
       "49996       44807  2016-04-02 14:18:02  \n",
       "49997       73430  2016-04-04 11:47:27  \n",
       "49998       35683  2016-04-05 16:45:07  \n",
       "49999       45897  2016-04-06 21:18:48  \n",
       "\n",
       "[50000 rows x 20 columns]"
      ],
      "text/html": "<div>\n<style scoped>\n    .dataframe tbody tr th:only-of-type {\n        vertical-align: middle;\n    }\n\n    .dataframe tbody tr th {\n        vertical-align: top;\n    }\n\n    .dataframe thead th {\n        text-align: right;\n    }\n</style>\n<table border=\"1\" class=\"dataframe\">\n  <thead>\n    <tr style=\"text-align: right;\">\n      <th></th>\n      <th>dateCrawled</th>\n      <th>name</th>\n      <th>seller</th>\n      <th>offerType</th>\n      <th>price</th>\n      <th>abtest</th>\n      <th>vehicleType</th>\n      <th>yearOfRegistration</th>\n      <th>gearbox</th>\n      <th>powerPS</th>\n      <th>model</th>\n      <th>odometer</th>\n      <th>monthOfRegistration</th>\n      <th>fuelType</th>\n      <th>brand</th>\n      <th>notRepairedDamage</th>\n      <th>dateCreated</th>\n      <th>nrOfPictures</th>\n      <th>postalCode</th>\n      <th>lastSeen</th>\n    </tr>\n  </thead>\n  <tbody>\n    <tr>\n      <th>0</th>\n      <td>2016-03-26 17:47:46</td>\n      <td>Peugeot_807_160_NAVTECH_ON_BOARD</td>\n      <td>privat</td>\n      <td>Angebot</td>\n      <td>$5,000</td>\n      <td>control</td>\n      <td>bus</td>\n      <td>2004</td>\n      <td>manuell</td>\n      <td>158</td>\n      <td>andere</td>\n      <td>150,000km</td>\n      <td>3</td>\n      <td>lpg</td>\n      <td>peugeot</td>\n      <td>nein</td>\n      <td>2016-03-26 00:00:00</td>\n      <td>0</td>\n      <td>79588</td>\n      <td>2016-04-06 06:45:54</td>\n    </tr>\n    <tr>\n      <th>1</th>\n      <td>2016-04-04 13:38:56</td>\n      <td>BMW_740i_4_4_Liter_HAMANN_UMBAU_Mega_Optik</td>\n      <td>privat</td>\n      <td>Angebot</td>\n      <td>$8,500</td>\n      <td>control</td>\n      <td>limousine</td>\n      <td>1997</td>\n      <td>automatik</td>\n      <td>286</td>\n      <td>7er</td>\n      <td>150,000km</td>\n      <td>6</td>\n      <td>benzin</td>\n      <td>bmw</td>\n      <td>nein</td>\n      <td>2016-04-04 00:00:00</td>\n      <td>0</td>\n      <td>71034</td>\n      <td>2016-04-06 14:45:08</td>\n    </tr>\n    <tr>\n      <th>2</th>\n      <td>2016-03-26 18:57:24</td>\n      <td>Volkswagen_Golf_1.6_United</td>\n      <td>privat</td>\n      <td>Angebot</td>\n      <td>$8,990</td>\n      <td>test</td>\n      <td>limousine</td>\n      <td>2009</td>\n      <td>manuell</td>\n      <td>102</td>\n      <td>golf</td>\n      <td>70,000km</td>\n      <td>7</td>\n      <td>benzin</td>\n      <td>volkswagen</td>\n      <td>nein</td>\n      <td>2016-03-26 00:00:00</td>\n      <td>0</td>\n      <td>35394</td>\n      <td>2016-04-06 20:15:37</td>\n    </tr>\n    <tr>\n      <th>3</th>\n      <td>2016-03-12 16:58:10</td>\n      <td>Smart_smart_fortwo_coupe_softouch/F1/Klima/Pan...</td>\n      <td>privat</td>\n      <td>Angebot</td>\n      <td>$4,350</td>\n      <td>control</td>\n      <td>kleinwagen</td>\n      <td>2007</td>\n      <td>automatik</td>\n      <td>71</td>\n      <td>fortwo</td>\n      <td>70,000km</td>\n      <td>6</td>\n      <td>benzin</td>\n      <td>smart</td>\n      <td>nein</td>\n      <td>2016-03-12 00:00:00</td>\n      <td>0</td>\n      <td>33729</td>\n      <td>2016-03-15 03:16:28</td>\n    </tr>\n    <tr>\n      <th>4</th>\n      <td>2016-04-01 14:38:50</td>\n      <td>Ford_Focus_1_6_Benzin_TÜV_neu_ist_sehr_gepfleg...</td>\n      <td>privat</td>\n      <td>Angebot</td>\n      <td>$1,350</td>\n      <td>test</td>\n      <td>kombi</td>\n      <td>2003</td>\n      <td>manuell</td>\n      <td>0</td>\n      <td>focus</td>\n      <td>150,000km</td>\n      <td>7</td>\n      <td>benzin</td>\n      <td>ford</td>\n      <td>nein</td>\n      <td>2016-04-01 00:00:00</td>\n      <td>0</td>\n      <td>39218</td>\n      <td>2016-04-01 14:38:50</td>\n    </tr>\n    <tr>\n      <th>...</th>\n      <td>...</td>\n      <td>...</td>\n      <td>...</td>\n      <td>...</td>\n      <td>...</td>\n      <td>...</td>\n      <td>...</td>\n      <td>...</td>\n      <td>...</td>\n      <td>...</td>\n      <td>...</td>\n      <td>...</td>\n      <td>...</td>\n      <td>...</td>\n      <td>...</td>\n      <td>...</td>\n      <td>...</td>\n      <td>...</td>\n      <td>...</td>\n      <td>...</td>\n    </tr>\n    <tr>\n      <th>49995</th>\n      <td>2016-03-27 14:38:19</td>\n      <td>Audi_Q5_3.0_TDI_qu._S_tr.__Navi__Panorama__Xenon</td>\n      <td>privat</td>\n      <td>Angebot</td>\n      <td>$24,900</td>\n      <td>control</td>\n      <td>limousine</td>\n      <td>2011</td>\n      <td>automatik</td>\n      <td>239</td>\n      <td>q5</td>\n      <td>100,000km</td>\n      <td>1</td>\n      <td>diesel</td>\n      <td>audi</td>\n      <td>nein</td>\n      <td>2016-03-27 00:00:00</td>\n      <td>0</td>\n      <td>82131</td>\n      <td>2016-04-01 13:47:40</td>\n    </tr>\n    <tr>\n      <th>49996</th>\n      <td>2016-03-28 10:50:25</td>\n      <td>Opel_Astra_F_Cabrio_Bertone_Edition___TÜV_neu+...</td>\n      <td>privat</td>\n      <td>Angebot</td>\n      <td>$1,980</td>\n      <td>control</td>\n      <td>cabrio</td>\n      <td>1996</td>\n      <td>manuell</td>\n      <td>75</td>\n      <td>astra</td>\n      <td>150,000km</td>\n      <td>5</td>\n      <td>benzin</td>\n      <td>opel</td>\n      <td>nein</td>\n      <td>2016-03-28 00:00:00</td>\n      <td>0</td>\n      <td>44807</td>\n      <td>2016-04-02 14:18:02</td>\n    </tr>\n    <tr>\n      <th>49997</th>\n      <td>2016-04-02 14:44:48</td>\n      <td>Fiat_500_C_1.2_Dualogic_Lounge</td>\n      <td>privat</td>\n      <td>Angebot</td>\n      <td>$13,200</td>\n      <td>test</td>\n      <td>cabrio</td>\n      <td>2014</td>\n      <td>automatik</td>\n      <td>69</td>\n      <td>500</td>\n      <td>5,000km</td>\n      <td>11</td>\n      <td>benzin</td>\n      <td>fiat</td>\n      <td>nein</td>\n      <td>2016-04-02 00:00:00</td>\n      <td>0</td>\n      <td>73430</td>\n      <td>2016-04-04 11:47:27</td>\n    </tr>\n    <tr>\n      <th>49998</th>\n      <td>2016-03-08 19:25:42</td>\n      <td>Audi_A3_2.0_TDI_Sportback_Ambition</td>\n      <td>privat</td>\n      <td>Angebot</td>\n      <td>$22,900</td>\n      <td>control</td>\n      <td>kombi</td>\n      <td>2013</td>\n      <td>manuell</td>\n      <td>150</td>\n      <td>a3</td>\n      <td>40,000km</td>\n      <td>11</td>\n      <td>diesel</td>\n      <td>audi</td>\n      <td>nein</td>\n      <td>2016-03-08 00:00:00</td>\n      <td>0</td>\n      <td>35683</td>\n      <td>2016-04-05 16:45:07</td>\n    </tr>\n    <tr>\n      <th>49999</th>\n      <td>2016-03-14 00:42:12</td>\n      <td>Opel_Vectra_1.6_16V</td>\n      <td>privat</td>\n      <td>Angebot</td>\n      <td>$1,250</td>\n      <td>control</td>\n      <td>limousine</td>\n      <td>1996</td>\n      <td>manuell</td>\n      <td>101</td>\n      <td>vectra</td>\n      <td>150,000km</td>\n      <td>1</td>\n      <td>benzin</td>\n      <td>opel</td>\n      <td>nein</td>\n      <td>2016-03-13 00:00:00</td>\n      <td>0</td>\n      <td>45897</td>\n      <td>2016-04-06 21:18:48</td>\n    </tr>\n  </tbody>\n</table>\n<p>50000 rows × 20 columns</p>\n</div>"
     },
     "metadata": {},
     "execution_count": 36
    }
   ],
   "source": [
    "autos"
   ]
  },
  {
   "cell_type": "code",
   "execution_count": 37,
   "metadata": {},
   "outputs": [],
   "source": [
    "new_cols = []\n",
    "\n",
    "for col in autos.columns:\n",
    "    if(col == 'yearOfRegistration'):\n",
    "        new_cols.append('registration_year')\n",
    "    elif(col == 'monthOfRegistration'):\n",
    "        new_cols.append('registration_month')\n",
    "    elif(col == 'notRepairedDamage'):\n",
    "        new_cols.append('unrepaired_damage')\n",
    "    elif(col == 'dateCreated'):\n",
    "        new_cols.append('ad_created')\n",
    "    else:\n",
    "        string = ''\n",
    "        for char in col:\n",
    "            if char == char.upper():\n",
    "                string += '_' + char.lower()\n",
    "            else:\n",
    "                string += char\n",
    "        new_cols.append(string)\n",
    "new_cols[5] = 'ab_test'\n",
    "new_cols[9] = 'power_ps'\n",
    "new_cols[17]= 'num_photos'\n",
    "\n",
    "autos.columns = new_cols\n"
   ]
  },
  {
   "source": [
    "In the section above, we cleaned up the coloumn names to follow snake case diction, and then we changed some of the wording of the columns to make better sense in snake case"
   ],
   "cell_type": "markdown",
   "metadata": {}
  },
  {
   "cell_type": "code",
   "execution_count": 38,
   "metadata": {},
   "outputs": [
    {
     "output_type": "stream",
     "name": "stdout",
     "text": [
      "               date_crawled         name  seller offer_type  price ab_test  \\\ncount                 50000        50000   50000      50000  50000   50000   \nunique                48213        38754       2          2   2357       2   \ntop     2016-04-04 16:40:33  Ford_Fiesta  privat    Angebot     $0    test   \nfreq                      3           78   49999      49999   1421   25756   \nmean                    NaN          NaN     NaN        NaN    NaN     NaN   \nstd                     NaN          NaN     NaN        NaN    NaN     NaN   \nmin                     NaN          NaN     NaN        NaN    NaN     NaN   \n25%                     NaN          NaN     NaN        NaN    NaN     NaN   \n50%                     NaN          NaN     NaN        NaN    NaN     NaN   \n75%                     NaN          NaN     NaN        NaN    NaN     NaN   \nmax                     NaN          NaN     NaN        NaN    NaN     NaN   \n\n       vehicle_type  registration_year  gearbox      power_ps  model  \\\ncount         44905       50000.000000    47320  50000.000000  47242   \nunique            8                NaN        2           NaN    245   \ntop       limousine                NaN  manuell           NaN   golf   \nfreq          12859                NaN    36993           NaN   4024   \nmean            NaN        2005.073280      NaN    116.355920    NaN   \nstd             NaN         105.712813      NaN    209.216627    NaN   \nmin             NaN        1000.000000      NaN      0.000000    NaN   \n25%             NaN        1999.000000      NaN     70.000000    NaN   \n50%             NaN        2003.000000      NaN    105.000000    NaN   \n75%             NaN        2008.000000      NaN    150.000000    NaN   \nmax             NaN        9999.000000      NaN  17700.000000    NaN   \n\n         odometer  registration_month fuel_type       brand unrepaired_damage  \\\ncount       50000        50000.000000     45518       50000             40171   \nunique         13                 NaN         7          40                 2   \ntop     150,000km                 NaN    benzin  volkswagen              nein   \nfreq        32424                 NaN     30107       10687             35232   \nmean          NaN            5.723360       NaN         NaN               NaN   \nstd           NaN            3.711984       NaN         NaN               NaN   \nmin           NaN            0.000000       NaN         NaN               NaN   \n25%           NaN            3.000000       NaN         NaN               NaN   \n50%           NaN            6.000000       NaN         NaN               NaN   \n75%           NaN            9.000000       NaN         NaN               NaN   \nmax           NaN           12.000000       NaN         NaN               NaN   \n\n                 ad_created  num_photos   postal_code            last_seen  \ncount                 50000     50000.0  50000.000000                50000  \nunique                   76         NaN           NaN                39481  \ntop     2016-04-03 00:00:00         NaN           NaN  2016-04-07 06:17:27  \nfreq                   1946         NaN           NaN                    8  \nmean                    NaN         0.0  50813.627300                  NaN  \nstd                     NaN         0.0  25779.747957                  NaN  \nmin                     NaN         0.0   1067.000000                  NaN  \n25%                     NaN         0.0  30451.000000                  NaN  \n50%                     NaN         0.0  49577.000000                  NaN  \n75%                     NaN         0.0  71540.000000                  NaN  \nmax                     NaN         0.0  99998.000000                  NaN  \n"
     ]
    },
    {
     "output_type": "execute_result",
     "data": {
      "text/plain": [
       "date_crawled          object\n",
       "name                  object\n",
       "seller                object\n",
       "offer_type            object\n",
       "price                 object\n",
       "ab_test               object\n",
       "vehicle_type          object\n",
       "registration_year      int64\n",
       "gearbox               object\n",
       "power_ps               int64\n",
       "model                 object\n",
       "odometer              object\n",
       "registration_month     int64\n",
       "fuel_type             object\n",
       "brand                 object\n",
       "unrepaired_damage     object\n",
       "ad_created            object\n",
       "num_photos             int64\n",
       "postal_code            int64\n",
       "last_seen             object\n",
       "dtype: object"
      ]
     },
     "metadata": {},
     "execution_count": 38
    }
   ],
   "source": [
    "print(autos.describe(include= 'all'))\n",
    "\n",
    "autos.dtypes"
   ]
  },
  {
   "source": [
    "We can probably drop the seller column since most deals are private, and we can also drop the offer_type, since most of the offer types seem to be from Angebot. Registration_year is a bit strange, since the max for that is 9999, and the min is 1000. Since price is an object and also odometer is an object, we can change those to numerical data types."
   ],
   "cell_type": "markdown",
   "metadata": {}
  },
  {
   "cell_type": "code",
   "execution_count": 39,
   "metadata": {},
   "outputs": [],
   "source": [
    "autos['price'] = autos['price'].str.replace('$','', regex=False).str.replace(',','', regex=False).astype(float)\n",
    "autos['odometer'] = autos['odometer'].str.replace('km','').str.replace(',','').astype(float)\n",
    "autos.rename(columns={'odometer' :'odometer_km'},inplace=True)"
   ]
  },
  {
   "cell_type": "code",
   "execution_count": 40,
   "metadata": {},
   "outputs": [
    {
     "output_type": "stream",
     "name": "stdout",
     "text": [
      "[ 5000.  8500.  8990. ...   385. 22200. 16995.]\n[150000.  70000.  50000.  80000.  10000.  30000. 125000.  90000.  20000.\n  60000.   5000. 100000.  40000.]\ncount    5.000000e+04\nmean     9.840044e+03\nstd      4.811044e+05\nmin      0.000000e+00\n25%      1.100000e+03\n50%      2.950000e+03\n75%      7.200000e+03\nmax      1.000000e+08\nName: price, dtype: float64\ncount     50000.000000\nmean     125732.700000\nstd       40042.211706\nmin        5000.000000\n25%      125000.000000\n50%      150000.000000\n75%      150000.000000\nmax      150000.000000\nName: odometer_km, dtype: float64\n197000.0      1\n198000.0      1\n220000.0      1\n250000.0      1\n259000.0      1\n265000.0      1\n295000.0      1\n299000.0      1\n345000.0      1\n350000.0      1\n999990.0      1\n999999.0      2\n1234566.0     1\n1300000.0     1\n3890000.0     1\n10000000.0    1\n11111111.0    2\n12345678.0    3\n27322222.0    1\n99999999.0    1\nName: price, dtype: int64\n150000.0    32424\n125000.0     5170\n100000.0     2169\n90000.0      1757\n80000.0      1436\n70000.0      1230\n60000.0      1164\n50000.0      1027\n5000.0        967\n40000.0       819\n30000.0       789\n20000.0       784\n10000.0       264\nName: odometer_km, dtype: int64\n"
     ]
    }
   ],
   "source": [
    "print(autos['price'].unique())\n",
    "print(autos['odometer_km'].unique())\n",
    "print(autos['price'].describe())\n",
    "print(autos['odometer_km'].describe())\n",
    "print(autos['price'].value_counts().sort_index().tail(20))\n",
    "print(autos['odometer_km'].value_counts())\n",
    "\n",
    "autos= autos[autos['price'] <= 999999.0]"
   ]
  },
  {
   "cell_type": "code",
   "execution_count": 41,
   "metadata": {},
   "outputs": [
    {
     "output_type": "execute_result",
     "data": {
      "text/plain": [
       "2016-04-03    0.038689\n",
       "2016-03-20    0.037828\n",
       "2016-03-21    0.037508\n",
       "2016-03-12    0.036768\n",
       "2016-03-14    0.036628\n",
       "2016-04-04    0.036488\n",
       "2016-03-07    0.035968\n",
       "2016-04-02    0.035408\n",
       "2016-03-19    0.034908\n",
       "2016-03-28    0.034848\n",
       "2016-03-29    0.034168\n",
       "2016-03-15    0.033987\n",
       "2016-04-01    0.033807\n",
       "2016-03-30    0.033627\n",
       "2016-03-08    0.033267\n",
       "2016-03-09    0.033207\n",
       "2016-03-22    0.032907\n",
       "2016-03-26    0.032487\n",
       "2016-03-11    0.032487\n",
       "2016-03-23    0.032387\n",
       "2016-03-10    0.032127\n",
       "2016-03-31    0.031907\n",
       "2016-03-25    0.031747\n",
       "2016-03-17    0.031527\n",
       "2016-03-27    0.031047\n",
       "2016-03-16    0.029506\n",
       "2016-03-24    0.029106\n",
       "2016-03-05    0.025386\n",
       "2016-03-13    0.015563\n",
       "2016-03-06    0.013943\n",
       "2016-04-05    0.013103\n",
       "2016-03-18    0.013063\n",
       "2016-04-06    0.003181\n",
       "2016-04-07    0.001420\n",
       "Name: date_crawled, dtype: float64"
      ]
     },
     "metadata": {},
     "execution_count": 41
    }
   ],
   "source": [
    "#autos[['date_crawled','ad_created','last_seen']].value_counts(normalize=True)\n",
    "autos['date_crawled'].str[0:10].value_counts(normalize=True, dropna=False)\n"
   ]
  },
  {
   "cell_type": "code",
   "execution_count": 42,
   "metadata": {},
   "outputs": [
    {
     "output_type": "execute_result",
     "data": {
      "text/plain": [
       "2015-06-11    0.000020\n",
       "2015-08-10    0.000020\n",
       "2015-09-09    0.000020\n",
       "2015-11-10    0.000020\n",
       "2015-12-05    0.000020\n",
       "                ...   \n",
       "2016-04-03    0.038929\n",
       "2016-04-04    0.036848\n",
       "2016-04-05    0.011843\n",
       "2016-04-06    0.003261\n",
       "2016-04-07    0.001280\n",
       "Name: ad_created, Length: 76, dtype: float64"
      ]
     },
     "metadata": {},
     "execution_count": 42
    }
   ],
   "source": [
    "autos['ad_created'].str[:10].value_counts(normalize=True, dropna=False).sort_index()\n"
   ]
  },
  {
   "cell_type": "code",
   "execution_count": 43,
   "metadata": {},
   "outputs": [
    {
     "output_type": "execute_result",
     "data": {
      "text/plain": [
       "2016-03-05    0.001080\n",
       "2016-03-06    0.004421\n",
       "2016-03-07    0.005361\n",
       "2016-03-18    0.007422\n",
       "2016-03-08    0.007582\n",
       "2016-03-13    0.008982\n",
       "2016-03-09    0.009842\n",
       "2016-03-10    0.010762\n",
       "2016-03-11    0.012523\n",
       "2016-03-14    0.012803\n",
       "2016-03-19    0.015743\n",
       "2016-03-15    0.015883\n",
       "2016-03-27    0.016024\n",
       "2016-03-16    0.016444\n",
       "2016-03-26    0.016964\n",
       "2016-03-23    0.018584\n",
       "2016-03-25    0.019204\n",
       "2016-03-24    0.019564\n",
       "2016-03-20    0.020705\n",
       "2016-03-21    0.020725\n",
       "2016-03-28    0.020865\n",
       "2016-03-22    0.021585\n",
       "2016-03-29    0.022345\n",
       "2016-04-01    0.023105\n",
       "2016-03-12    0.023805\n",
       "2016-03-31    0.023825\n",
       "2016-04-04    0.024625\n",
       "2016-03-30    0.024845\n",
       "2016-04-02    0.024885\n",
       "2016-04-03    0.025366\n",
       "2016-03-17    0.027926\n",
       "2016-04-05    0.124267\n",
       "2016-04-07    0.130949\n",
       "2016-04-06    0.220989\n",
       "Name: last_seen, dtype: float64"
      ]
     },
     "metadata": {},
     "execution_count": 43
    }
   ],
   "source": [
    "autos['last_seen'].str[0:10].value_counts(normalize=True, dropna=False).sort_values()"
   ]
  },
  {
   "source": [
    "Seems like the site was crawled over the months of march and april of 2016, and once the crawling ended, the last_seen frequency went up by almost 12x, meaning all the bots were on last seen causing the big uptick"
   ],
   "cell_type": "markdown",
   "metadata": {}
  },
  {
   "cell_type": "code",
   "execution_count": 44,
   "metadata": {},
   "outputs": [
    {
     "output_type": "execute_result",
     "data": {
      "text/plain": [
       "count    49989.000000\n",
       "mean      2005.074916\n",
       "std        105.724083\n",
       "min       1000.000000\n",
       "25%       1999.000000\n",
       "50%       2003.000000\n",
       "75%       2008.000000\n",
       "max       9999.000000\n",
       "Name: registration_year, dtype: float64"
      ]
     },
     "metadata": {},
     "execution_count": 44
    }
   ],
   "source": [
    "autos['registration_year'].describe()"
   ]
  },
  {
   "source": [
    "Some of the years in registration year seems to be messed up, as we have registration years of 1000 and years of 9999 in the dataset"
   ],
   "cell_type": "markdown",
   "metadata": {}
  },
  {
   "cell_type": "code",
   "execution_count": 45,
   "metadata": {},
   "outputs": [
    {
     "output_type": "stream",
     "name": "stdout",
     "text": [
      "2002    0.052750\n2003    0.056790\n2004    0.056998\n2005    0.062788\n2006    0.056374\n2007    0.047981\n2008    0.046461\n2009    0.043691\n2010    0.033258\n2011    0.034028\n2012    0.027552\n2013    0.016785\n2014    0.013849\n2015    0.008309\n2016    0.027406\nName: registration_year, dtype: float64\n"
     ]
    }
   ],
   "source": [
    "autos['registration_year'].value_counts(normalize=True).sort_index().head(15)\n",
    "autos = autos[autos['registration_year'].between(1910,2016)]\n",
    "print(autos['registration_year'].value_counts(normalize=True).sort_index().tail(15))"
   ]
  },
  {
   "source": [
    "In the previous cell, I removed any cars from before 1910 (since there were 8 cars that listed a registration year of 1910, and the years around 1910 only had one car listed, so it seemed 1910 is a legitimate year) and since the dataset is from 2016, anything after 2016 is incorrect."
   ],
   "cell_type": "markdown",
   "metadata": {}
  },
  {
   "cell_type": "code",
   "execution_count": 46,
   "metadata": {},
   "outputs": [],
   "source": [
    "brands = autos['brand'].value_counts().head(15)\n"
   ]
  },
  {
   "source": [
    "I've chosen to gather data on the top 15 counted brands in the dataframe"
   ],
   "cell_type": "markdown",
   "metadata": {}
  },
  {
   "cell_type": "code",
   "execution_count": 47,
   "metadata": {
    "tags": []
   },
   "outputs": [],
   "source": [
    "mean_price_brands = {}\n",
    "\n",
    "for b in brands.index:\n",
    "    autos_copy = autos[autos['brand'] == b]\n",
    "    mean = autos_copy['price'].mean()\n",
    "    mean_price_brands[b] = mean\n"
   ]
  },
  {
   "cell_type": "code",
   "execution_count": 48,
   "metadata": {},
   "outputs": [
    {
     "output_type": "execute_result",
     "data": {
      "text/plain": [
       "                mean_price\n",
       "volkswagen     5426.382546\n",
       "bmw            8102.536248\n",
       "opel           2876.716404\n",
       "mercedes_benz  8485.239572\n",
       "audi           9093.650036\n",
       "ford           3949.423456\n",
       "renault        2395.416447\n",
       "peugeot        3039.468265\n",
       "fiat           2711.801127\n",
       "seat           4296.492554\n",
       "skoda          6334.919481\n",
       "mazda          4010.771664\n",
       "nissan         4664.891034\n",
       "citroen        3699.935629\n",
       "smart          3542.706587"
      ],
      "text/html": "<div>\n<style scoped>\n    .dataframe tbody tr th:only-of-type {\n        vertical-align: middle;\n    }\n\n    .dataframe tbody tr th {\n        vertical-align: top;\n    }\n\n    .dataframe thead th {\n        text-align: right;\n    }\n</style>\n<table border=\"1\" class=\"dataframe\">\n  <thead>\n    <tr style=\"text-align: right;\">\n      <th></th>\n      <th>mean_price</th>\n    </tr>\n  </thead>\n  <tbody>\n    <tr>\n      <th>volkswagen</th>\n      <td>5426.382546</td>\n    </tr>\n    <tr>\n      <th>bmw</th>\n      <td>8102.536248</td>\n    </tr>\n    <tr>\n      <th>opel</th>\n      <td>2876.716404</td>\n    </tr>\n    <tr>\n      <th>mercedes_benz</th>\n      <td>8485.239572</td>\n    </tr>\n    <tr>\n      <th>audi</th>\n      <td>9093.650036</td>\n    </tr>\n    <tr>\n      <th>ford</th>\n      <td>3949.423456</td>\n    </tr>\n    <tr>\n      <th>renault</th>\n      <td>2395.416447</td>\n    </tr>\n    <tr>\n      <th>peugeot</th>\n      <td>3039.468265</td>\n    </tr>\n    <tr>\n      <th>fiat</th>\n      <td>2711.801127</td>\n    </tr>\n    <tr>\n      <th>seat</th>\n      <td>4296.492554</td>\n    </tr>\n    <tr>\n      <th>skoda</th>\n      <td>6334.919481</td>\n    </tr>\n    <tr>\n      <th>mazda</th>\n      <td>4010.771664</td>\n    </tr>\n    <tr>\n      <th>nissan</th>\n      <td>4664.891034</td>\n    </tr>\n    <tr>\n      <th>citroen</th>\n      <td>3699.935629</td>\n    </tr>\n    <tr>\n      <th>smart</th>\n      <td>3542.706587</td>\n    </tr>\n  </tbody>\n</table>\n</div>"
     },
     "metadata": {},
     "execution_count": 48
    }
   ],
   "source": [
    "pd.DataFrame(pd.Series(mean_price_brands), columns=['mean_price'])"
   ]
  },
  {
   "cell_type": "code",
   "execution_count": 49,
   "metadata": {},
   "outputs": [
    {
     "output_type": "stream",
     "name": "stdout",
     "text": [
      "{'volkswagen': 128728.28, 'bmw': 132431.38, 'opel': 129223.14, 'mercedes_benz': 130856.08, 'audi': 129287.78, 'ford': 124068.93, 'renault': 128183.82, 'peugeot': 127136.81, 'fiat': 116553.95, 'seat': 121563.57, 'skoda': 110954.55, 'mazda': 124745.53, 'nissan': 118572.41, 'citroen': 119580.84, 'smart': 99595.81}\n"
     ]
    }
   ],
   "source": [
    "mean_mileage = {}\n",
    "\n",
    "for brand in brands.index:\n",
    "    autos_copy = autos[autos['brand'] == brand]\n",
    "    mean = autos_copy['odometer_km'].mean()\n",
    "    mean_mileage[brand] = round(mean,2)\n",
    "print(mean_mileage)\n",
    "\n",
    "series_mean_price_brands = pd.Series(mean_price_brands)\n",
    "series_mean_mileage = pd.Series(mean_mileage)\n",
    "comparing_price_mileage = pd.DataFrame(series_mean_price_brands, columns=['mean_price'])\n",
    "comparing_price_mileage['mean_mileage'] = series_mean_mileage\n",
    "comparing_price_mileage = comparing_price_mileage.sort_values('mean_mileage')"
   ]
  },
  {
   "cell_type": "code",
   "execution_count": null,
   "metadata": {},
   "outputs": [],
   "source": []
  }
 ]
}